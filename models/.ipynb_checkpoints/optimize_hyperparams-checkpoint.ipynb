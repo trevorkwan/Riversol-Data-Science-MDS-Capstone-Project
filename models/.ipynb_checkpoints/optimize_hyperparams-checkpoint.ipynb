{
 "cells": [
  {
   "cell_type": "code",
   "execution_count": 1,
   "metadata": {},
   "outputs": [
    {
     "name": "stderr",
     "output_type": "stream",
     "text": [
      "Using TensorFlow backend.\n"
     ]
    }
   ],
   "source": [
    "import pandas as pd\n",
    "import numpy as np\n",
    "import seaborn as sns\n",
    "import matplotlib.pyplot as plt\n",
    "from sklearn.model_selection import train_test_split, GridSearchCV, cross_val_score, cross_validate\n",
    "from sklearn.preprocessing import LabelEncoder, OneHotEncoder, LabelBinarizer\n",
    "from sklearn.compose import ColumnTransformer\n",
    "from sklearn.linear_model import LogisticRegression\n",
    "from sklearn.utils.validation import column_or_1d\n",
    "from imblearn.over_sampling import SMOTENC\n",
    "from imblearn.under_sampling import RandomUnderSampler\n",
    "from sklearn.impute import SimpleImputer\n",
    "from sklearn.pipeline import Pipeline, make_pipeline\n",
    "from sklearn.compose import ColumnTransformer\n",
    "from sklearn.tree import DecisionTreeClassifier\n",
    "from sklearn.neighbors import KNeighborsClassifier\n",
    "from sklearn.linear_model import LogisticRegression\n",
    "from sklearn.naive_bayes import MultinomialNB\n",
    "from sklearn.svm import SVC\n",
    "from sklearn.ensemble import RandomForestClassifier\n",
    "from xgboost import XGBClassifier\n",
    "from lightgbm import LGBMClassifier\n",
    "from sklearn.dummy import DummyClassifier\n",
    "from sklearn.metrics import accuracy_score, recall_score, precision_score, f1_score, matthews_corrcoef, roc_auc_score, plot_confusion_matrix\n",
    "from sklearn.metrics import confusion_matrix, roc_curve, plot_confusion_matrix, classification_report\n",
    "import time\n",
    "import warnings\n",
    "warnings.filterwarnings('ignore') \n",
    "plt.style.use('ggplot')\n",
    "plt.rcParams.update({'font.size': 16,\n",
    "                     'axes.labelweight': 'bold',\n",
    "                     'figure.figsize': (8,6)})"
   ]
  },
  {
   "cell_type": "markdown",
   "metadata": {},
   "source": [
    "## Define custom functions"
   ]
  },
  {
   "cell_type": "code",
   "execution_count": 129,
   "metadata": {},
   "outputs": [],
   "source": [
    "def run_models(model_dict, preprocessor, X_train, y_train, X_valid, y_valid):\n",
    "    results_dict = {}\n",
    "    fig, ax = plt.subplots(1, 2, figsize=(14, 9))\n",
    "    for i, (model_name, model) in enumerate(models.items()):\n",
    "        print(f\"Running: {model_name}\")\n",
    "        t1 = time.time()\n",
    "        clf = Pipeline(steps = [('preprocessor', preprocessor),\n",
    "                                ('classifier', model)])\n",
    "        clf.fit(X_train, y_train)\n",
    "        p_train = clf.predict(X_train)\n",
    "        p_valid = clf.predict(X_valid)\n",
    "        results_dict[model_name] = return_metrics(y_train, p_train, y_valid, p_valid)\n",
    "        plot_confusion(confusion_matrix(y_valid, p_valid), ax=ax[i], title=model_name)\n",
    "        print(f\"  Time taken: {time.time() - t1:.2f}s\")\n",
    "    plt.tight_layout()\n",
    "    return (pd.DataFrame(results_dict,\n",
    "                         index = [\"train_accuracy\", \"valid_accuracy\", \"precision\", \"recall\", \"f1\"])\n",
    "              .transpose()\n",
    "              .round(2)), fig\n",
    "\n",
    "def return_metrics(y_train, y_train_predicted, y_valid, y_valid_predicted):\n",
    "    train_acc = accuracy_score(y_train, y_train_predicted)\n",
    "    test_acc = accuracy_score(y_valid, y_valid_predicted)\n",
    "    p = precision_score(y_valid, y_valid_predicted)\n",
    "    r = recall_score(y_valid, y_valid_predicted)\n",
    "    f1 = f1_score(y_valid, y_valid_predicted)\n",
    "    return [train_acc, test_acc, p, r, f1]\n",
    "\n",
    "def plot_confusion(conf_matrix_array, ax, title=None):\n",
    "    # turn each part of confusion matrix into a proportion out of the total and set that array as X\n",
    "    X = conf_matrix_array / np.sum(conf_matrix_array, axis=1)[:, None]\n",
    "    sns.heatmap(X, ax=ax,\n",
    "                linewidths=1, linecolor='slategrey', cmap='Blues',\n",
    "                annot=True, xticklabels=['No Buy', 'Buy'], yticklabels=['No Buy', 'Buy'],\n",
    "                cbar=False, square=True)\n",
    "    ax.set_title(title)"
   ]
  },
  {
   "cell_type": "markdown",
   "metadata": {},
   "source": [
    "#### Testing Custom Functions"
   ]
  },
  {
   "cell_type": "code",
   "execution_count": null,
   "metadata": {},
   "outputs": [],
   "source": [
    "t1 = time.time()\n",
    "clf = Pipeline(steps = [('preprocessor', preprocessor),\n",
    "                                ('classifier', LGBMClassifier(class_weight=\"balanced\"))])\n",
    "clf.fit(X_train, y_train)\n",
    "p_train = clf.predict(X_train)\n",
    "p_valid = clf.predict(X_valid)"
   ]
  },
  {
   "cell_type": "code",
   "execution_count": 150,
   "metadata": {},
   "outputs": [
    {
     "data": {
      "text/plain": [
       "array([[98135, 79993],\n",
       "       [ 9965, 19394]], dtype=int64)"
      ]
     },
     "execution_count": 150,
     "metadata": {},
     "output_type": "execute_result"
    }
   ],
   "source": [
    "tn, fp, fn, tp = confusion_matrix(y_valid, p_valid).ravel()\n",
    "fp\n",
    "confusion_matrix(y_valid, p_valid)"
   ]
  },
  {
   "cell_type": "code",
   "execution_count": 105,
   "metadata": {},
   "outputs": [
    {
     "data": {
      "text/plain": [
       "array([[0.55092405, 2.72465002],\n",
       "       [0.05594292, 0.66058108]])"
      ]
     },
     "execution_count": 105,
     "metadata": {},
     "output_type": "execute_result"
    }
   ],
   "source": [
    "X = confusion_matrix(y_valid, p_valid)/np.sum(confusion_matrix(y_valid, p_valid), axis = 1)\n",
    "X"
   ]
  },
  {
   "cell_type": "code",
   "execution_count": 120,
   "metadata": {},
   "outputs": [
    {
     "data": {
      "image/png": "[encoded data removed]",
      "text/plain": [
       "<Figure size 1008x648 with 2 Axes>"
      ]
     },
     "metadata": {},
     "output_type": "display_data"
    }
   ],
   "source": [
    "fig, ax = plt.subplots(1, 2, figsize=(14, 9))"
   ]
  },
  {
   "cell_type": "code",
   "execution_count": 139,
   "metadata": {},
   "outputs": [
    {
     "data": {
      "text/plain": [
       "dict_items([('XGBoost', XGBClassifier(base_score=0.5, booster='gbtree', colsample_bylevel=1,\n",
       "              colsample_bynode=1, colsample_bytree=1, gamma=0,\n",
       "              learning_rate=0.1, max_delta_step=0, max_depth=3,\n",
       "              min_child_weight=1, missing=None, n_estimators=100, n_jobs=1,\n",
       "              nthread=None, objective='binary:logistic', random_state=0,\n",
       "              reg_alpha=0, reg_lambda=1, scale_pos_weight=6.067305508878696,\n",
       "              seed=None, silent=None, subsample=1, verbosity=1)), ('LGBM', LGBMClassifier(boosting_type='gbdt', class_weight='balanced',\n",
       "               colsample_bytree=1.0, importance_type='split', learning_rate=0.1,\n",
       "               max_depth=-1, min_child_samples=20, min_child_weight=0.001,\n",
       "               min_split_gain=0.0, n_estimators=100, n_jobs=-1, num_leaves=31,\n",
       "               objective=None, random_state=None, reg_alpha=0.0, reg_lambda=0.0,\n",
       "               silent=True, subsample=1.0, subsample_for_bin=200000,\n",
       "               subsample_freq=0))])"
      ]
     },
     "execution_count": 139,
     "metadata": {},
     "output_type": "execute_result"
    }
   ],
   "source": [
    "models.items()"
   ]
  },
  {
   "cell_type": "code",
   "execution_count": 128,
   "metadata": {},
   "outputs": [
    {
     "data": {
      "text/plain": [
       "<matplotlib.axes._subplots.AxesSubplot at 0x25e25351fc8>"
      ]
     },
     "execution_count": 128,
     "metadata": {},
     "output_type": "execute_result"
    }
   ],
   "source": [
    "sns.heatmap(X, ax = ax[0])"
   ]
  },
  {
   "cell_type": "code",
   "execution_count": 126,
   "metadata": {},
   "outputs": [
    {
     "data": {
      "image/png": "[encoded data removed]",
      "text/plain": [
       "<Figure size 1008x648 with 4 Axes>"
      ]
     },
     "execution_count": 126,
     "metadata": {},
     "output_type": "execute_result"
    }
   ],
   "source": [
    "fig"
   ]
  },
  {
   "cell_type": "markdown",
   "metadata": {},
   "source": [
    "# Data Pre-processing"
   ]
  },
  {
   "cell_type": "markdown",
   "metadata": {},
   "source": [
    "## Train/Validation/Test Split"
   ]
  },
  {
   "cell_type": "code",
   "execution_count": 272,
   "metadata": {},
   "outputs": [
    {
     "name": "stdout",
     "output_type": "stream",
     "text": [
      " Data shape: (648397, 10)\n",
      "==========================\n",
      "   Stratified Splitting   \n",
      "==========================\n",
      "Train shape: (311230, 8), % buy: 14.15%\n",
      "Valid shape: (207487, 8), % buy: 14.15%\n",
      " Test shape: (129680, 8), % buy: 14.15%\n",
      "\n"
     ]
    },
    {
     "data": {
      "text/html": [
       "<div>\n",
       "<style scoped>\n",
       "    .dataframe tbody tr th:only-of-type {\n",
       "        vertical-align: middle;\n",
       "    }\n",
       "\n",
       "    .dataframe tbody tr th {\n",
       "        vertical-align: top;\n",
       "    }\n",
       "\n",
       "    .dataframe thead th {\n",
       "        text-align: right;\n",
       "    }\n",
       "</style>\n",
       "<table border=\"1\" class=\"dataframe\">\n",
       "  <thead>\n",
       "    <tr style=\"text-align: right;\">\n",
       "      <th></th>\n",
       "      <th>accepts_marketing</th>\n",
       "      <th>ordered_month</th>\n",
       "      <th>location</th>\n",
       "      <th>gender</th>\n",
       "      <th>free_shipping</th>\n",
       "      <th>product_type</th>\n",
       "      <th>skin_type</th>\n",
       "      <th>fv_site</th>\n",
       "    </tr>\n",
       "  </thead>\n",
       "  <tbody>\n",
       "    <tr>\n",
       "      <th>0</th>\n",
       "      <td>True</td>\n",
       "      <td>4</td>\n",
       "      <td>ONTARIO, CANADA</td>\n",
       "      <td>unknown</td>\n",
       "      <td>True</td>\n",
       "      <td>Anti-Aging</td>\n",
       "      <td>Normal to Dry</td>\n",
       "      <td>other</td>\n",
       "    </tr>\n",
       "    <tr>\n",
       "      <th>1</th>\n",
       "      <td>False</td>\n",
       "      <td>6</td>\n",
       "      <td>BRITISH COLUMBIA, CANADA</td>\n",
       "      <td>unknown</td>\n",
       "      <td>False</td>\n",
       "      <td>Other</td>\n",
       "      <td>Normal to Oily</td>\n",
       "      <td>other</td>\n",
       "    </tr>\n",
       "    <tr>\n",
       "      <th>2</th>\n",
       "      <td>False</td>\n",
       "      <td>5</td>\n",
       "      <td>OREGON, UNITED STATES</td>\n",
       "      <td>female</td>\n",
       "      <td>False</td>\n",
       "      <td>Other</td>\n",
       "      <td>Normal to Dry</td>\n",
       "      <td>other</td>\n",
       "    </tr>\n",
       "    <tr>\n",
       "      <th>3</th>\n",
       "      <td>False</td>\n",
       "      <td>5</td>\n",
       "      <td>NEW JERSEY, UNITED STATES</td>\n",
       "      <td>unknown</td>\n",
       "      <td>False</td>\n",
       "      <td>Other</td>\n",
       "      <td>Normal to Oily</td>\n",
       "      <td>other</td>\n",
       "    </tr>\n",
       "    <tr>\n",
       "      <th>4</th>\n",
       "      <td>False</td>\n",
       "      <td>5</td>\n",
       "      <td>ONTARIO, CANADA</td>\n",
       "      <td>unknown</td>\n",
       "      <td>False</td>\n",
       "      <td>Other</td>\n",
       "      <td>Normal to Dry</td>\n",
       "      <td>other</td>\n",
       "    </tr>\n",
       "  </tbody>\n",
       "</table>\n",
       "</div>"
      ],
      "text/plain": [
       "   accepts_marketing  ordered_month                   location   gender  \\\n",
       "0               True              4            ONTARIO, CANADA  unknown   \n",
       "1              False              6   BRITISH COLUMBIA, CANADA  unknown   \n",
       "2              False              5      OREGON, UNITED STATES   female   \n",
       "3              False              5  NEW JERSEY, UNITED STATES  unknown   \n",
       "4              False              5            ONTARIO, CANADA  unknown   \n",
       "\n",
       "   free_shipping product_type       skin_type fv_site  \n",
       "0           True   Anti-Aging   Normal to Dry   other  \n",
       "1          False        Other  Normal to Oily   other  \n",
       "2          False        Other   Normal to Dry   other  \n",
       "3          False        Other  Normal to Oily   other  \n",
       "4          False        Other   Normal to Dry   other  "
      ]
     },
     "execution_count": 272,
     "metadata": {},
     "output_type": "execute_result"
    }
   ],
   "source": [
    "df = pd.read_csv(\"../data/processed/cleaned_df.csv\")\n",
    "print(f\" Data shape: {df.shape}\")\n",
    "X = df.drop(columns = ['customer_id', 'buy'])\n",
    "y = df['buy']\n",
    "seed = 123\n",
    "X_train, X_test, y_train, y_test = train_test_split(X, y, test_size=0.2, stratify=y, random_state=seed) # get test set\n",
    "X_train, X_valid, y_train, y_valid = train_test_split(X_train, y_train, test_size=0.4, stratify=y_train, random_state=seed) # get train/valid set\n",
    "print(\"==========================\")\n",
    "print(\"   Stratified Splitting   \")\n",
    "print(\"==========================\")\n",
    "print(f\"Train shape: {X_train.shape}, % buy: {y_train.sum()/len(y_train)*100:.2f}%\")\n",
    "print(f\"Valid shape: {X_valid.shape}, % buy: {y_valid.sum()/len(y_valid)*100:.2f}%\")\n",
    "print(f\" Test shape: {X_test.shape}, % buy: {y_test.sum()/len(y_test)*100:.2f}%\")\n",
    "print(\"\")\n",
    "X.head()"
   ]
  },
  {
   "cell_type": "markdown",
   "metadata": {},
   "source": [
    "## Handling Categorical Features"
   ]
  },
  {
   "cell_type": "code",
   "execution_count": 273,
   "metadata": {},
   "outputs": [],
   "source": [
    "categorical_features = ['accepts_marketing', 'ordered_month', 'gender', 'free_shipping',\n",
    "                       'product_type', 'skin_type', 'location', 'fv_site']\n",
    "categorical_transformer = Pipeline(steps =[\n",
    "                                        ('imputer', SimpleImputer(strategy = 'constant', fill_value = 'unknown')),\n",
    "                                        ('onehot', OneHotEncoder(handle_unknown = 'ignore'))\n",
    "])\n",
    "\n",
    "preprocessor = ColumnTransformer(transformers = [('cat', categorical_transformer, categorical_features)],\n",
    "                                 remainder = \"passthrough\")"
   ]
  },
  {
   "cell_type": "markdown",
   "metadata": {},
   "source": [
    "# Hyperparamter Optimization"
   ]
  },
  {
   "cell_type": "markdown",
   "metadata": {},
   "source": [
    "## Baseline Accuracy Without Optimization"
   ]
  },
  {
   "cell_type": "code",
   "execution_count": 277,
   "metadata": {},
   "outputs": [],
   "source": [
    "models = {\n",
    "          'XGBoost' : XGBClassifier(scale_pos_weight=(y_train == False).sum()/(y_train == True).sum()),\n",
    "          'LGBM': LGBMClassifier(class_weight=\"balanced\")\n",
    "         }"
   ]
  },
  {
   "cell_type": "code",
   "execution_count": 280,
   "metadata": {},
   "outputs": [],
   "source": [
    "def run_models(model_dict, preprocessor, X_train, y_train, X_valid, y_valid):\n",
    "    results_dict = {}\n",
    "    fig, ax = plt.subplots(1, 1, figsize=(14, 9))\n",
    "    for i, (model_name, model) in enumerate(models.items()):\n",
    "        print(f\"Running: {model_name}\")\n",
    "        t1 = time.time()\n",
    "        clf = Pipeline(steps = [('preprocessor', preprocessor),\n",
    "                                ('classifier', model)])\n",
    "        \n",
    "        clf.fit(X_train, y_train)\n",
    "        p_train = clf.predict(X_train)\n",
    "        p_valid = clf.predict(X_valid)\n",
    "        results_dict[model_name] = return_metrics(y_train, p_train, y_valid, p_valid)\n",
    "        plot_confusion(confusion_matrix(y_valid, p_valid), ax=ax, title=model_name)\n",
    "        print(f\"  Time taken: {time.time() - t1:.2f}s\")\n",
    "        \n",
    "    plt.tight_layout()\n",
    "    return (pd.DataFrame(results_dict,\n",
    "                         index = [\"train_accuracy\", \"valid_accuracy\", \"precision\", \"recall\", \"f1\"])\n",
    "              .transpose()\n",
    "              .round(2)), fig"
   ]
  },
  {
   "cell_type": "code",
   "execution_count": 281,
   "metadata": {},
   "outputs": [
    {
     "name": "stdout",
     "output_type": "stream",
     "text": [
      "Running: XGBoost\n",
      "  Time taken: 14.14s\n",
      "Running: LGBM\n",
      "  Time taken: 8.19s\n"
     ]
    },
    {
     "data": {
      "image/png": "[encoded data removed]",
      "text/plain": [
       "<Figure size 1008x648 with 1 Axes>"
      ]
     },
     "metadata": {},
     "output_type": "display_data"
    }
   ],
   "source": [
    "# x-axis is predicted, y-axis is true labels\n",
    "results_bal, fig = run_models(models, preprocessor, X_train, y_train, X_valid, y_valid)"
   ]
  },
  {
   "cell_type": "code",
   "execution_count": 282,
   "metadata": {},
   "outputs": [
    {
     "data": {
      "text/html": [
       "<div>\n",
       "<style scoped>\n",
       "    .dataframe tbody tr th:only-of-type {\n",
       "        vertical-align: middle;\n",
       "    }\n",
       "\n",
       "    .dataframe tbody tr th {\n",
       "        vertical-align: top;\n",
       "    }\n",
       "\n",
       "    .dataframe thead th {\n",
       "        text-align: right;\n",
       "    }\n",
       "</style>\n",
       "<table border=\"1\" class=\"dataframe\">\n",
       "  <thead>\n",
       "    <tr style=\"text-align: right;\">\n",
       "      <th></th>\n",
       "      <th>train_accuracy</th>\n",
       "      <th>valid_accuracy</th>\n",
       "      <th>precision</th>\n",
       "      <th>recall</th>\n",
       "      <th>f1</th>\n",
       "    </tr>\n",
       "  </thead>\n",
       "  <tbody>\n",
       "    <tr>\n",
       "      <th>XGBoost</th>\n",
       "      <td>0.56</td>\n",
       "      <td>0.55</td>\n",
       "      <td>0.19</td>\n",
       "      <td>0.67</td>\n",
       "      <td>0.3</td>\n",
       "    </tr>\n",
       "    <tr>\n",
       "      <th>LGBM</th>\n",
       "      <td>0.57</td>\n",
       "      <td>0.57</td>\n",
       "      <td>0.20</td>\n",
       "      <td>0.66</td>\n",
       "      <td>0.3</td>\n",
       "    </tr>\n",
       "  </tbody>\n",
       "</table>\n",
       "</div>"
      ],
      "text/plain": [
       "         train_accuracy  valid_accuracy  precision  recall   f1\n",
       "XGBoost            0.56            0.55       0.19    0.67  0.3\n",
       "LGBM               0.57            0.57       0.20    0.66  0.3"
      ]
     },
     "execution_count": 282,
     "metadata": {},
     "output_type": "execute_result"
    }
   ],
   "source": [
    "results_bal"
   ]
  },
  {
   "cell_type": "markdown",
   "metadata": {},
   "source": [
    "## After Optimization Results"
   ]
  },
  {
   "cell_type": "markdown",
   "metadata": {},
   "source": [
    "### Testing Phase"
   ]
  },
  {
   "cell_type": "code",
   "execution_count": 315,
   "metadata": {},
   "outputs": [],
   "source": [
    "def run_models(model_dict, param_grid, preprocessor, X_train, y_train, X_valid, y_valid):\n",
    "    results_dict = {}\n",
    "    fig, ax = plt.subplots(1, 1, figsize=(14, 9))\n",
    "    for i, (model_name, model) in enumerate(models.items()):\n",
    "        print(f\"Running: {model_name}\")\n",
    "        t1 = time.time()\n",
    "        clf = Pipeline(steps = [('preprocessor', preprocessor),\n",
    "                                ('classifier', model)])\n",
    "        \n",
    "        param_grid = param_grid\n",
    "        \n",
    "        grid_search = GridSearchCV(clf, param_grid, cv = None, scoring = 'accuracy')\n",
    "        grid_search.fit(X_train, y_train)\n",
    "        \n",
    "        print(f\" The best params are: {grid_search.best_params_}\")\n",
    "        \n",
    "        best_score = grid_search.best_score_\n",
    "        \n",
    "        p_train = grid_search.predict(X_train)\n",
    "        p_valid = grid_search.predict(X_valid)\n",
    "        results_dict[model_name] = return_metrics(y_train, p_train, y_valid, p_valid)\n",
    "        plot_confusion(confusion_matrix(y_valid, p_valid), ax=ax, title=model_name)\n",
    "        print(f\"  Time taken: {time.time() - t1:.2f}s\")\n",
    "        \n",
    "    plt.tight_layout()\n",
    "    return (pd.DataFrame(results_dict,\n",
    "                         index = [\"train_accuracy\", \"valid_accuracy\", \"precision\", \"recall\", \"f1\"])\n",
    "              .transpose()\n",
    "              .round(2)), fig, (pd.DataFrame(grid_search.cv_results_)[['params', 'mean_test_score', 'std_test_score']])"
   ]
  },
  {
   "cell_type": "code",
   "execution_count": 316,
   "metadata": {},
   "outputs": [],
   "source": [
    "param_grid = {'classifier__max_depth' : np.array([3, 4])\n",
    "             }"
   ]
  },
  {
   "cell_type": "code",
   "execution_count": 317,
   "metadata": {},
   "outputs": [
    {
     "name": "stdout",
     "output_type": "stream",
     "text": [
      "Running: XGBoost\n",
      " The best params are: {'classifier__max_depth': 4}\n",
      "  Time taken: 132.91s\n"
     ]
    },
    {
     "data": {
      "image/png": "[encoded data removed]",
      "text/plain": [
       "<Figure size 1008x648 with 1 Axes>"
      ]
     },
     "metadata": {},
     "output_type": "display_data"
    }
   ],
   "source": [
    "results_bal, fig, cv_results = run_models(models, param_grid, preprocessor, X_train, y_train, X_valid, y_valid)"
   ]
  },
  {
   "cell_type": "code",
   "execution_count": 320,
   "metadata": {},
   "outputs": [
    {
     "data": {
      "text/html": [
       "<div>\n",
       "<style scoped>\n",
       "    .dataframe tbody tr th:only-of-type {\n",
       "        vertical-align: middle;\n",
       "    }\n",
       "\n",
       "    .dataframe tbody tr th {\n",
       "        vertical-align: top;\n",
       "    }\n",
       "\n",
       "    .dataframe thead th {\n",
       "        text-align: right;\n",
       "    }\n",
       "</style>\n",
       "<table border=\"1\" class=\"dataframe\">\n",
       "  <thead>\n",
       "    <tr style=\"text-align: right;\">\n",
       "      <th></th>\n",
       "      <th>params</th>\n",
       "      <th>mean_test_score</th>\n",
       "      <th>std_test_score</th>\n",
       "    </tr>\n",
       "  </thead>\n",
       "  <tbody>\n",
       "    <tr>\n",
       "      <th>0</th>\n",
       "      <td>{'classifier__max_depth': 3}</td>\n",
       "      <td>0.554111</td>\n",
       "      <td>0.003815</td>\n",
       "    </tr>\n",
       "    <tr>\n",
       "      <th>1</th>\n",
       "      <td>{'classifier__max_depth': 4}</td>\n",
       "      <td>0.561202</td>\n",
       "      <td>0.004302</td>\n",
       "    </tr>\n",
       "  </tbody>\n",
       "</table>\n",
       "</div>"
      ],
      "text/plain": [
       "                         params  mean_test_score  std_test_score\n",
       "0  {'classifier__max_depth': 3}         0.554111        0.003815\n",
       "1  {'classifier__max_depth': 4}         0.561202        0.004302"
      ]
     },
     "execution_count": 320,
     "metadata": {},
     "output_type": "execute_result"
    }
   ],
   "source": [
    "cv_results"
   ]
  },
  {
   "cell_type": "code",
   "execution_count": 321,
   "metadata": {},
   "outputs": [
    {
     "data": {
      "text/html": [
       "<div>\n",
       "<style scoped>\n",
       "    .dataframe tbody tr th:only-of-type {\n",
       "        vertical-align: middle;\n",
       "    }\n",
       "\n",
       "    .dataframe tbody tr th {\n",
       "        vertical-align: top;\n",
       "    }\n",
       "\n",
       "    .dataframe thead th {\n",
       "        text-align: right;\n",
       "    }\n",
       "</style>\n",
       "<table border=\"1\" class=\"dataframe\">\n",
       "  <thead>\n",
       "    <tr style=\"text-align: right;\">\n",
       "      <th></th>\n",
       "      <th>train_accuracy</th>\n",
       "      <th>valid_accuracy</th>\n",
       "      <th>precision</th>\n",
       "      <th>recall</th>\n",
       "      <th>f1</th>\n",
       "    </tr>\n",
       "  </thead>\n",
       "  <tbody>\n",
       "    <tr>\n",
       "      <th>XGBoost</th>\n",
       "      <td>0.56</td>\n",
       "      <td>0.56</td>\n",
       "      <td>0.19</td>\n",
       "      <td>0.66</td>\n",
       "      <td>0.3</td>\n",
       "    </tr>\n",
       "  </tbody>\n",
       "</table>\n",
       "</div>"
      ],
      "text/plain": [
       "         train_accuracy  valid_accuracy  precision  recall   f1\n",
       "XGBoost            0.56            0.56       0.19    0.66  0.3"
      ]
     },
     "execution_count": 321,
     "metadata": {},
     "output_type": "execute_result"
    }
   ],
   "source": [
    "results_bal"
   ]
  },
  {
   "cell_type": "markdown",
   "metadata": {},
   "source": [
    "### XGBoost Optimization"
   ]
  },
  {
   "cell_type": "code",
   "execution_count": 284,
   "metadata": {},
   "outputs": [],
   "source": [
    "models = {\n",
    "          'XGBoost' : XGBClassifier(scale_pos_weight=(y_train == False).sum()/(y_train == True).sum(),\n",
    "                                   learning_rate = 0.1),\n",
    "#           'LGBM': LGBMClassifier(class_weight=\"balanced\")\n",
    "         }"
   ]
  },
  {
   "cell_type": "code",
   "execution_count": 264,
   "metadata": {},
   "outputs": [],
   "source": [
    "def run_models(model_dict, param_grid, preprocessor, X_train, y_train, X_valid, y_valid):\n",
    "    results_dict = {}\n",
    "    fig, ax = plt.subplots(1, 1, figsize=(14, 9))\n",
    "    for i, (model_name, model) in enumerate(models.items()):\n",
    "        print(f\"Running: {model_name}\")\n",
    "        t1 = time.time()\n",
    "        clf = Pipeline(steps = [('preprocessor', preprocessor),\n",
    "                                ('classifier', model)])\n",
    "        \n",
    "        param_grid = param_grid\n",
    "        \n",
    "        grid_search = GridSearchCV(clf, param_grid, cv = None, scoring = 'accuracy')\n",
    "        grid_search.fit(X_train, y_train)\n",
    "        \n",
    "        print(f\" The best params are: {grid_search.best_params_}\")\n",
    "        \n",
    "        best_score = grid_search.best_score_\n",
    "        \n",
    "        p_train = grid_search.predict(X_train)\n",
    "        p_valid = grid_search.predict(X_valid)\n",
    "        results_dict[model_name] = return_metrics(y_train, p_train, y_valid, p_valid)\n",
    "        plot_confusion(confusion_matrix(y_valid, p_valid), ax=ax, title=model_name)\n",
    "        print(f\"  Time taken: {time.time() - t1:.2f}s\")\n",
    "        \n",
    "    plt.tight_layout()\n",
    "    return (pd.DataFrame(results_dict,\n",
    "                         index = [\"train_accuracy\", \"valid_accuracy\", \"precision\", \"recall\", \"f1\"])\n",
    "              .transpose()\n",
    "              .round(2)), fig, (pd.DataFrame(grid_search.cv_results_)[['params', 'mean_test_score', 'std_test_score']])"
   ]
  },
  {
   "cell_type": "markdown",
   "metadata": {},
   "source": [
    "#### Tune max_depth and min_child_weight"
   ]
  },
  {
   "cell_type": "code",
   "execution_count": 251,
   "metadata": {},
   "outputs": [],
   "source": [
    "param_grid = {'classifier__max_depth' : np.array(range(3, 10, 2)),\n",
    "              'classifier__min_child_weight' : np.array(range(1, 6, 2))\n",
    "             }"
   ]
  },
  {
   "cell_type": "code",
   "execution_count": 253,
   "metadata": {},
   "outputs": [
    {
     "name": "stdout",
     "output_type": "stream",
     "text": [
      "Running: XGBoost\n",
      " The best params are: {'classifier__max_depth': 7, 'classifier__min_child_weight': 1}\n",
      "  Time taken: 4125.25s\n"
     ]
    },
    {
     "data": {
      "image/png": "[encoded data removed]",
      "text/plain": [
       "<Figure size 1008x648 with 1 Axes>"
      ]
     },
     "metadata": {},
     "output_type": "display_data"
    }
   ],
   "source": [
    "results_bal, fig, cv_results = run_models(models, param_grid, preprocessor, X_train, y_train, X_valid, y_valid)"
   ]
  },
  {
   "cell_type": "code",
   "execution_count": 256,
   "metadata": {},
   "outputs": [
    {
     "data": {
      "text/html": [
       "<div>\n",
       "<style scoped>\n",
       "    .dataframe tbody tr th:only-of-type {\n",
       "        vertical-align: middle;\n",
       "    }\n",
       "\n",
       "    .dataframe tbody tr th {\n",
       "        vertical-align: top;\n",
       "    }\n",
       "\n",
       "    .dataframe thead th {\n",
       "        text-align: right;\n",
       "    }\n",
       "</style>\n",
       "<table border=\"1\" class=\"dataframe\">\n",
       "  <thead>\n",
       "    <tr style=\"text-align: right;\">\n",
       "      <th></th>\n",
       "      <th>train_accuracy</th>\n",
       "      <th>valid_accuracy</th>\n",
       "      <th>precision</th>\n",
       "      <th>recall</th>\n",
       "      <th>f1</th>\n",
       "    </tr>\n",
       "  </thead>\n",
       "  <tbody>\n",
       "    <tr>\n",
       "      <th>XGBoost</th>\n",
       "      <td>0.57</td>\n",
       "      <td>0.57</td>\n",
       "      <td>0.19</td>\n",
       "      <td>0.66</td>\n",
       "      <td>0.3</td>\n",
       "    </tr>\n",
       "  </tbody>\n",
       "</table>\n",
       "</div>"
      ],
      "text/plain": [
       "         train_accuracy  valid_accuracy  precision  recall   f1\n",
       "XGBoost            0.57            0.57       0.19    0.66  0.3"
      ]
     },
     "execution_count": 256,
     "metadata": {},
     "output_type": "execute_result"
    }
   ],
   "source": [
    "results_bal"
   ]
  },
  {
   "cell_type": "code",
   "execution_count": 250,
   "metadata": {},
   "outputs": [
    {
     "data": {
      "text/plain": [
       "dict_keys(['memory', 'steps', 'verbose', 'preprocessor', 'classifier', 'preprocessor__n_jobs', 'preprocessor__remainder', 'preprocessor__sparse_threshold', 'preprocessor__transformer_weights', 'preprocessor__transformers', 'preprocessor__verbose', 'preprocessor__cat', 'preprocessor__cat__memory', 'preprocessor__cat__steps', 'preprocessor__cat__verbose', 'preprocessor__cat__imputer', 'preprocessor__cat__onehot', 'preprocessor__cat__imputer__add_indicator', 'preprocessor__cat__imputer__copy', 'preprocessor__cat__imputer__fill_value', 'preprocessor__cat__imputer__missing_values', 'preprocessor__cat__imputer__strategy', 'preprocessor__cat__imputer__verbose', 'preprocessor__cat__onehot__categories', 'preprocessor__cat__onehot__drop', 'preprocessor__cat__onehot__dtype', 'preprocessor__cat__onehot__handle_unknown', 'preprocessor__cat__onehot__sparse', 'classifier__boosting_type', 'classifier__class_weight', 'classifier__colsample_bytree', 'classifier__importance_type', 'classifier__learning_rate', 'classifier__max_depth', 'classifier__min_child_samples', 'classifier__min_child_weight', 'classifier__min_split_gain', 'classifier__n_estimators', 'classifier__n_jobs', 'classifier__num_leaves', 'classifier__objective', 'classifier__random_state', 'classifier__reg_alpha', 'classifier__reg_lambda', 'classifier__silent', 'classifier__subsample', 'classifier__subsample_for_bin', 'classifier__subsample_freq'])"
      ]
     },
     "execution_count": 250,
     "metadata": {},
     "output_type": "execute_result"
    }
   ],
   "source": [
    "clf.get_params().keys()"
   ]
  },
  {
   "cell_type": "markdown",
   "metadata": {},
   "source": [
    "#### Tune Gamma"
   ]
  },
  {
   "cell_type": "code",
   "execution_count": 255,
   "metadata": {},
   "outputs": [],
   "source": [
    "models = {\n",
    "          'XGBoost' : XGBClassifier(scale_pos_weight=(y_train == False).sum()/(y_train == True).sum(),\n",
    "                                   learning_rate = 0.1,\n",
    "                                   max_depth = 7,\n",
    "                                   min_child_weight = 1),\n",
    "#           'LGBM': LGBMClassifier(class_weight=\"balanced\")\n",
    "         }"
   ]
  },
  {
   "cell_type": "code",
   "execution_count": 261,
   "metadata": {},
   "outputs": [],
   "source": [
    "param_grid = {'classifier__gamma' : [i/10.0 for i in range(0,5)]\n",
    "             }"
   ]
  },
  {
   "cell_type": "code",
   "execution_count": 262,
   "metadata": {},
   "outputs": [
    {
     "name": "stdout",
     "output_type": "stream",
     "text": [
      "Running: XGBoost\n",
      " The best params are: {'classifier__gamma': 0.0}\n",
      "  Time taken: 553.45s\n"
     ]
    },
    {
     "data": {
      "image/png": "[encoded data removed]",
      "text/plain": [
       "<Figure size 1008x648 with 1 Axes>"
      ]
     },
     "metadata": {},
     "output_type": "display_data"
    }
   ],
   "source": [
    "results_bal, fig, cv_results = run_models(models, param_grid, preprocessor, X_train, y_train, X_valid, y_valid)"
   ]
  },
  {
   "cell_type": "code",
   "execution_count": 265,
   "metadata": {},
   "outputs": [
    {
     "data": {
      "text/html": [
       "<div>\n",
       "<style scoped>\n",
       "    .dataframe tbody tr th:only-of-type {\n",
       "        vertical-align: middle;\n",
       "    }\n",
       "\n",
       "    .dataframe tbody tr th {\n",
       "        vertical-align: top;\n",
       "    }\n",
       "\n",
       "    .dataframe thead th {\n",
       "        text-align: right;\n",
       "    }\n",
       "</style>\n",
       "<table border=\"1\" class=\"dataframe\">\n",
       "  <thead>\n",
       "    <tr style=\"text-align: right;\">\n",
       "      <th></th>\n",
       "      <th>train_accuracy</th>\n",
       "      <th>valid_accuracy</th>\n",
       "      <th>precision</th>\n",
       "      <th>recall</th>\n",
       "      <th>f1</th>\n",
       "    </tr>\n",
       "  </thead>\n",
       "  <tbody>\n",
       "    <tr>\n",
       "      <th>XGBoost</th>\n",
       "      <td>0.56</td>\n",
       "      <td>0.55</td>\n",
       "      <td>0.19</td>\n",
       "      <td>0.67</td>\n",
       "      <td>0.3</td>\n",
       "    </tr>\n",
       "  </tbody>\n",
       "</table>\n",
       "</div>"
      ],
      "text/plain": [
       "         train_accuracy  valid_accuracy  precision  recall   f1\n",
       "XGBoost            0.56            0.55       0.19    0.67  0.3"
      ]
     },
     "execution_count": 265,
     "metadata": {},
     "output_type": "execute_result"
    }
   ],
   "source": [
    "results_bal"
   ]
  },
  {
   "cell_type": "markdown",
   "metadata": {},
   "source": [
    "#### Tune subsample and colsample_byte"
   ]
  },
  {
   "cell_type": "code",
   "execution_count": 322,
   "metadata": {},
   "outputs": [],
   "source": [
    "param_grid = {'classifier__subsample':[i/10.0 for i in range(6,10)],\n",
    "             'classifier__colsample_bytree':[i/10.0 for i in range(6,10)]\n",
    "}"
   ]
  },
  {
   "cell_type": "code",
   "execution_count": 323,
   "metadata": {},
   "outputs": [],
   "source": [
    "models = {\n",
    "          'XGBoost' : XGBClassifier(scale_pos_weight=(y_train == False).sum()/(y_train == True).sum(),\n",
    "                                   learning_rate = 0.1,\n",
    "                                   max_depth = 7,\n",
    "                                   min_child_weight = 1,\n",
    "                                   gamma = 0.0),\n",
    "#           'LGBM': LGBMClassifier(class_weight=\"balanced\")\n",
    "         }"
   ]
  },
  {
   "cell_type": "code",
   "execution_count": 324,
   "metadata": {},
   "outputs": [
    {
     "name": "stdout",
     "output_type": "stream",
     "text": [
      "Running: XGBoost\n",
      " The best params are: {'classifier__colsample_bytree': 0.7, 'classifier__subsample': 0.8}\n",
      "  Time taken: 1492.21s\n"
     ]
    },
    {
     "data": {
      "image/png": "[encoded data removed]",
      "text/plain": [
       "<Figure size 1008x648 with 1 Axes>"
      ]
     },
     "metadata": {},
     "output_type": "display_data"
    }
   ],
   "source": [
    "results_bal, fig, cv_results = run_models(models, param_grid, preprocessor, X_train, y_train, X_valid, y_valid)"
   ]
  },
  {
   "cell_type": "code",
   "execution_count": 325,
   "metadata": {},
   "outputs": [
    {
     "data": {
      "text/html": [
       "<div>\n",
       "<style scoped>\n",
       "    .dataframe tbody tr th:only-of-type {\n",
       "        vertical-align: middle;\n",
       "    }\n",
       "\n",
       "    .dataframe tbody tr th {\n",
       "        vertical-align: top;\n",
       "    }\n",
       "\n",
       "    .dataframe thead th {\n",
       "        text-align: right;\n",
       "    }\n",
       "</style>\n",
       "<table border=\"1\" class=\"dataframe\">\n",
       "  <thead>\n",
       "    <tr style=\"text-align: right;\">\n",
       "      <th></th>\n",
       "      <th>params</th>\n",
       "      <th>mean_test_score</th>\n",
       "      <th>std_test_score</th>\n",
       "    </tr>\n",
       "  </thead>\n",
       "  <tbody>\n",
       "    <tr>\n",
       "      <th>0</th>\n",
       "      <td>{'classifier__colsample_bytree': 0.6, 'classif...</td>\n",
       "      <td>0.561777</td>\n",
       "      <td>0.002621</td>\n",
       "    </tr>\n",
       "    <tr>\n",
       "      <th>1</th>\n",
       "      <td>{'classifier__colsample_bytree': 0.6, 'classif...</td>\n",
       "      <td>0.563307</td>\n",
       "      <td>0.003598</td>\n",
       "    </tr>\n",
       "    <tr>\n",
       "      <th>2</th>\n",
       "      <td>{'classifier__colsample_bytree': 0.6, 'classif...</td>\n",
       "      <td>0.564335</td>\n",
       "      <td>0.002738</td>\n",
       "    </tr>\n",
       "    <tr>\n",
       "      <th>3</th>\n",
       "      <td>{'classifier__colsample_bytree': 0.6, 'classif...</td>\n",
       "      <td>0.564817</td>\n",
       "      <td>0.002257</td>\n",
       "    </tr>\n",
       "    <tr>\n",
       "      <th>4</th>\n",
       "      <td>{'classifier__colsample_bytree': 0.7, 'classif...</td>\n",
       "      <td>0.562941</td>\n",
       "      <td>0.002367</td>\n",
       "    </tr>\n",
       "    <tr>\n",
       "      <th>5</th>\n",
       "      <td>{'classifier__colsample_bytree': 0.7, 'classif...</td>\n",
       "      <td>0.564319</td>\n",
       "      <td>0.003233</td>\n",
       "    </tr>\n",
       "    <tr>\n",
       "      <th>6</th>\n",
       "      <td>{'classifier__colsample_bytree': 0.7, 'classif...</td>\n",
       "      <td>0.564881</td>\n",
       "      <td>0.003125</td>\n",
       "    </tr>\n",
       "    <tr>\n",
       "      <th>7</th>\n",
       "      <td>{'classifier__colsample_bytree': 0.7, 'classif...</td>\n",
       "      <td>0.564772</td>\n",
       "      <td>0.002518</td>\n",
       "    </tr>\n",
       "    <tr>\n",
       "      <th>8</th>\n",
       "      <td>{'classifier__colsample_bytree': 0.8, 'classif...</td>\n",
       "      <td>0.563031</td>\n",
       "      <td>0.002341</td>\n",
       "    </tr>\n",
       "    <tr>\n",
       "      <th>9</th>\n",
       "      <td>{'classifier__colsample_bytree': 0.8, 'classif...</td>\n",
       "      <td>0.563410</td>\n",
       "      <td>0.002939</td>\n",
       "    </tr>\n",
       "    <tr>\n",
       "      <th>10</th>\n",
       "      <td>{'classifier__colsample_bytree': 0.8, 'classif...</td>\n",
       "      <td>0.563426</td>\n",
       "      <td>0.002834</td>\n",
       "    </tr>\n",
       "    <tr>\n",
       "      <th>11</th>\n",
       "      <td>{'classifier__colsample_bytree': 0.8, 'classif...</td>\n",
       "      <td>0.563487</td>\n",
       "      <td>0.002242</td>\n",
       "    </tr>\n",
       "    <tr>\n",
       "      <th>12</th>\n",
       "      <td>{'classifier__colsample_bytree': 0.9, 'classif...</td>\n",
       "      <td>0.563047</td>\n",
       "      <td>0.002853</td>\n",
       "    </tr>\n",
       "    <tr>\n",
       "      <th>13</th>\n",
       "      <td>{'classifier__colsample_bytree': 0.9, 'classif...</td>\n",
       "      <td>0.563975</td>\n",
       "      <td>0.003522</td>\n",
       "    </tr>\n",
       "    <tr>\n",
       "      <th>14</th>\n",
       "      <td>{'classifier__colsample_bytree': 0.9, 'classif...</td>\n",
       "      <td>0.564341</td>\n",
       "      <td>0.002858</td>\n",
       "    </tr>\n",
       "    <tr>\n",
       "      <th>15</th>\n",
       "      <td>{'classifier__colsample_bytree': 0.9, 'classif...</td>\n",
       "      <td>0.563750</td>\n",
       "      <td>0.001998</td>\n",
       "    </tr>\n",
       "  </tbody>\n",
       "</table>\n",
       "</div>"
      ],
      "text/plain": [
       "                                               params  mean_test_score  \\\n",
       "0   {'classifier__colsample_bytree': 0.6, 'classif...         0.561777   \n",
       "1   {'classifier__colsample_bytree': 0.6, 'classif...         0.563307   \n",
       "2   {'classifier__colsample_bytree': 0.6, 'classif...         0.564335   \n",
       "3   {'classifier__colsample_bytree': 0.6, 'classif...         0.564817   \n",
       "4   {'classifier__colsample_bytree': 0.7, 'classif...         0.562941   \n",
       "5   {'classifier__colsample_bytree': 0.7, 'classif...         0.564319   \n",
       "6   {'classifier__colsample_bytree': 0.7, 'classif...         0.564881   \n",
       "7   {'classifier__colsample_bytree': 0.7, 'classif...         0.564772   \n",
       "8   {'classifier__colsample_bytree': 0.8, 'classif...         0.563031   \n",
       "9   {'classifier__colsample_bytree': 0.8, 'classif...         0.563410   \n",
       "10  {'classifier__colsample_bytree': 0.8, 'classif...         0.563426   \n",
       "11  {'classifier__colsample_bytree': 0.8, 'classif...         0.563487   \n",
       "12  {'classifier__colsample_bytree': 0.9, 'classif...         0.563047   \n",
       "13  {'classifier__colsample_bytree': 0.9, 'classif...         0.563975   \n",
       "14  {'classifier__colsample_bytree': 0.9, 'classif...         0.564341   \n",
       "15  {'classifier__colsample_bytree': 0.9, 'classif...         0.563750   \n",
       "\n",
       "    std_test_score  \n",
       "0         0.002621  \n",
       "1         0.003598  \n",
       "2         0.002738  \n",
       "3         0.002257  \n",
       "4         0.002367  \n",
       "5         0.003233  \n",
       "6         0.003125  \n",
       "7         0.002518  \n",
       "8         0.002341  \n",
       "9         0.002939  \n",
       "10        0.002834  \n",
       "11        0.002242  \n",
       "12        0.002853  \n",
       "13        0.003522  \n",
       "14        0.002858  \n",
       "15        0.001998  "
      ]
     },
     "execution_count": 325,
     "metadata": {},
     "output_type": "execute_result"
    }
   ],
   "source": [
    "cv_results"
   ]
  },
  {
   "cell_type": "markdown",
   "metadata": {},
   "source": [
    "#### Tune Regularization Parameters"
   ]
  },
  {
   "cell_type": "code",
   "execution_count": 334,
   "metadata": {},
   "outputs": [],
   "source": [
    "models = {\n",
    "          'XGBoost' : XGBClassifier(scale_pos_weight=(y_train == False).sum()/(y_train == True).sum(),\n",
    "                                   learning_rate = 0.1,\n",
    "                                   max_depth = 7,\n",
    "                                   min_child_weight = 1,\n",
    "                                   gamma = 0.0,\n",
    "                                   subsample = 0.8,\n",
    "                                   colsample_bytree = 0.7),\n",
    "#           'LGBM': LGBMClassifier(class_weight=\"balanced\")\n",
    "         }"
   ]
  },
  {
   "cell_type": "code",
   "execution_count": 339,
   "metadata": {},
   "outputs": [],
   "source": [
    "param_grid = {\n",
    " 'classifier__reg_alpha':[1e-5, 1e-2, 0.1, 1, 100]\n",
    "}"
   ]
  },
  {
   "cell_type": "code",
   "execution_count": 340,
   "metadata": {},
   "outputs": [
    {
     "name": "stdout",
     "output_type": "stream",
     "text": [
      "Running: XGBoost\n",
      " The best params are: {'classifier__reg_alpha': 100}\n",
      "  Time taken: 468.11s\n"
     ]
    },
    {
     "data": {
      "image/png": "[encoded data removed]",
      "text/plain": [
       "<Figure size 1008x648 with 1 Axes>"
      ]
     },
     "metadata": {},
     "output_type": "display_data"
    }
   ],
   "source": [
    "results_bal, fig, cv_results = run_models(models, param_grid, preprocessor, X_train, y_train, X_valid, y_valid)"
   ]
  },
  {
   "cell_type": "code",
   "execution_count": 341,
   "metadata": {},
   "outputs": [
    {
     "data": {
      "text/html": [
       "<div>\n",
       "<style scoped>\n",
       "    .dataframe tbody tr th:only-of-type {\n",
       "        vertical-align: middle;\n",
       "    }\n",
       "\n",
       "    .dataframe tbody tr th {\n",
       "        vertical-align: top;\n",
       "    }\n",
       "\n",
       "    .dataframe thead th {\n",
       "        text-align: right;\n",
       "    }\n",
       "</style>\n",
       "<table border=\"1\" class=\"dataframe\">\n",
       "  <thead>\n",
       "    <tr style=\"text-align: right;\">\n",
       "      <th></th>\n",
       "      <th>params</th>\n",
       "      <th>mean_test_score</th>\n",
       "      <th>std_test_score</th>\n",
       "    </tr>\n",
       "  </thead>\n",
       "  <tbody>\n",
       "    <tr>\n",
       "      <th>0</th>\n",
       "      <td>{'classifier__reg_alpha': 1e-05}</td>\n",
       "      <td>0.564881</td>\n",
       "      <td>0.003125</td>\n",
       "    </tr>\n",
       "    <tr>\n",
       "      <th>1</th>\n",
       "      <td>{'classifier__reg_alpha': 0.01}</td>\n",
       "      <td>0.564917</td>\n",
       "      <td>0.003389</td>\n",
       "    </tr>\n",
       "    <tr>\n",
       "      <th>2</th>\n",
       "      <td>{'classifier__reg_alpha': 0.1}</td>\n",
       "      <td>0.564737</td>\n",
       "      <td>0.002697</td>\n",
       "    </tr>\n",
       "    <tr>\n",
       "      <th>3</th>\n",
       "      <td>{'classifier__reg_alpha': 1}</td>\n",
       "      <td>0.565296</td>\n",
       "      <td>0.003154</td>\n",
       "    </tr>\n",
       "    <tr>\n",
       "      <th>4</th>\n",
       "      <td>{'classifier__reg_alpha': 100}</td>\n",
       "      <td>0.567805</td>\n",
       "      <td>0.003198</td>\n",
       "    </tr>\n",
       "  </tbody>\n",
       "</table>\n",
       "</div>"
      ],
      "text/plain": [
       "                             params  mean_test_score  std_test_score\n",
       "0  {'classifier__reg_alpha': 1e-05}         0.564881        0.003125\n",
       "1   {'classifier__reg_alpha': 0.01}         0.564917        0.003389\n",
       "2    {'classifier__reg_alpha': 0.1}         0.564737        0.002697\n",
       "3      {'classifier__reg_alpha': 1}         0.565296        0.003154\n",
       "4    {'classifier__reg_alpha': 100}         0.567805        0.003198"
      ]
     },
     "execution_count": 341,
     "metadata": {},
     "output_type": "execute_result"
    }
   ],
   "source": [
    "cv_results"
   ]
  },
  {
   "cell_type": "markdown",
   "metadata": {},
   "source": [
    "#### Reduce the Learning Rate"
   ]
  },
  {
   "cell_type": "code",
   "execution_count": 343,
   "metadata": {},
   "outputs": [],
   "source": [
    "models = {\n",
    "          'XGBoost' : XGBClassifier(scale_pos_weight=(y_train == False).sum()/(y_train == True).sum(),\n",
    "                                   learning_rate = 0.01,\n",
    "                                   n_estimators = 5000,\n",
    "                                   max_depth = 7,\n",
    "                                   min_child_weight = 1,\n",
    "                                   gamma = 0.0,\n",
    "                                   subsample = 0.8,\n",
    "                                   colsample_bytree = 0.7,\n",
    "                                   reg_alpha = 100)\n",
    "}"
   ]
  },
  {
   "cell_type": "markdown",
   "metadata": {},
   "source": [
    "#### Final XGBoost Optimized"
   ]
  },
  {
   "cell_type": "code",
   "execution_count": 351,
   "metadata": {},
   "outputs": [],
   "source": [
    "def run_models_feat_final(model_dict, preprocessor, X_train, y_train, X_valid, y_valid):\n",
    "    results_dict = {}\n",
    "    fig, ax = plt.subplots(1, 1, figsize=(14, 9))\n",
    "    for i, (model_name, model) in enumerate(models.items()):\n",
    "        print(f\"Running: {model_name}\")\n",
    "        t1 = time.time()\n",
    "        clf = Pipeline(steps = [('preprocessor', preprocessor),\n",
    "                                ('classifier', model)])\n",
    "        \n",
    "        clf.fit(X_train, y_train)\n",
    "        p_train = clf.predict(X_train)\n",
    "        p_valid = clf.predict(X_valid)\n",
    "        results_dict[model_name] = return_metrics(y_train, p_train, y_valid, p_valid)\n",
    "        plot_confusion(confusion_matrix(y_valid, p_valid), ax=ax, title=model_name)\n",
    "        print(f\"  Time taken: {time.time() - t1:.2f}s\")\n",
    "        \n",
    "    plt.tight_layout()\n",
    "    return (pd.DataFrame(results_dict,\n",
    "                         index = [\"train_accuracy\", \"valid_accuracy\", \"precision\", \"recall\", \"f1\"])\n",
    "              .transpose()\n",
    "              .round(2)), fig"
   ]
  },
  {
   "cell_type": "code",
   "execution_count": 352,
   "metadata": {},
   "outputs": [
    {
     "name": "stdout",
     "output_type": "stream",
     "text": [
      "Running: XGBoost\n",
      "  Time taken: 1213.19s\n"
     ]
    },
    {
     "data": {
      "image/png": "[encoded data removed]",
      "text/plain": [
       "<Figure size 1008x648 with 1 Axes>"
      ]
     },
     "metadata": {},
     "output_type": "display_data"
    }
   ],
   "source": [
    "results_bal, fig = run_models_feat_final(models, preprocessor, X_train, y_train, X_valid, y_valid)"
   ]
  },
  {
   "cell_type": "code",
   "execution_count": 354,
   "metadata": {},
   "outputs": [
    {
     "data": {
      "text/html": [
       "<div>\n",
       "<style scoped>\n",
       "    .dataframe tbody tr th:only-of-type {\n",
       "        vertical-align: middle;\n",
       "    }\n",
       "\n",
       "    .dataframe tbody tr th {\n",
       "        vertical-align: top;\n",
       "    }\n",
       "\n",
       "    .dataframe thead th {\n",
       "        text-align: right;\n",
       "    }\n",
       "</style>\n",
       "<table border=\"1\" class=\"dataframe\">\n",
       "  <thead>\n",
       "    <tr style=\"text-align: right;\">\n",
       "      <th></th>\n",
       "      <th>train_accuracy</th>\n",
       "      <th>valid_accuracy</th>\n",
       "      <th>precision</th>\n",
       "      <th>recall</th>\n",
       "      <th>f1</th>\n",
       "    </tr>\n",
       "  </thead>\n",
       "  <tbody>\n",
       "    <tr>\n",
       "      <th>XGBoost</th>\n",
       "      <td>0.57</td>\n",
       "      <td>0.57</td>\n",
       "      <td>0.2</td>\n",
       "      <td>0.65</td>\n",
       "      <td>0.3</td>\n",
       "    </tr>\n",
       "  </tbody>\n",
       "</table>\n",
       "</div>"
      ],
      "text/plain": [
       "         train_accuracy  valid_accuracy  precision  recall   f1\n",
       "XGBoost            0.57            0.57        0.2    0.65  0.3"
      ]
     },
     "execution_count": 354,
     "metadata": {},
     "output_type": "execute_result"
    }
   ],
   "source": [
    "results_bal"
   ]
  },
  {
   "cell_type": "markdown",
   "metadata": {},
   "source": [
    "### LGBM Optimization"
   ]
  },
  {
   "cell_type": "code",
   "execution_count": 383,
   "metadata": {},
   "outputs": [],
   "source": [
    "models = {\n",
    "          'LGBM': LGBMClassifier(class_weight=\"balanced\",\n",
    "                                 boosting_type = 'dart')\n",
    "         }"
   ]
  },
  {
   "cell_type": "code",
   "execution_count": 384,
   "metadata": {},
   "outputs": [],
   "source": [
    "def run_models(model_dict, param_grid, preprocessor, X_train, y_train, X_valid, y_valid):\n",
    "    results_dict = {}\n",
    "    fig, ax = plt.subplots(1, 1, figsize=(14, 9))\n",
    "    for i, (model_name, model) in enumerate(models.items()):\n",
    "        print(f\"Running: {model_name}\")\n",
    "        t1 = time.time()\n",
    "        clf = Pipeline(steps = [('preprocessor', preprocessor),\n",
    "                                ('classifier', model)])\n",
    "        \n",
    "        param_grid = param_grid\n",
    "        \n",
    "        grid_search = GridSearchCV(clf, param_grid, cv = None, scoring = 'accuracy')\n",
    "        grid_search.fit(X_train, y_train)\n",
    "        \n",
    "        print(f\" The best params are: {grid_search.best_params_}\")\n",
    "        \n",
    "        best_score = grid_search.best_score_\n",
    "        \n",
    "        p_train = grid_search.predict(X_train)\n",
    "        p_valid = grid_search.predict(X_valid)\n",
    "        results_dict[model_name] = return_metrics(y_train, p_train, y_valid, p_valid)\n",
    "        plot_confusion(confusion_matrix(y_valid, p_valid), ax=ax, title=model_name)\n",
    "        print(f\"  Time taken: {time.time() - t1:.2f}s\")\n",
    "        \n",
    "    plt.tight_layout()\n",
    "    return (pd.DataFrame(results_dict,\n",
    "                         index = [\"train_accuracy\", \"valid_accuracy\", \"precision\", \"recall\", \"f1\"])\n",
    "              .transpose()\n",
    "              .round(2)), fig, (pd.DataFrame(grid_search.cv_results_)[['params', 'mean_test_score', 'std_test_score']])"
   ]
  },
  {
   "cell_type": "markdown",
   "metadata": {},
   "source": [
    "#### Tune max_depth and min_samples_split"
   ]
  },
  {
   "cell_type": "code",
   "execution_count": 373,
   "metadata": {},
   "outputs": [],
   "source": [
    "param_grid = {'classifier__max_depth':range(5,16,2), 'classifier__min_samples_split':range(200,1001,200)}"
   ]
  },
  {
   "cell_type": "code",
   "execution_count": 374,
   "metadata": {},
   "outputs": [
    {
     "name": "stdout",
     "output_type": "stream",
     "text": [
      "Running: LGBM\n",
      " The best params are: {'classifier__max_depth': 15, 'classifier__min_samples_split': 200}\n",
      "  Time taken: 2233.00s\n"
     ]
    },
    {
     "data": {
      "image/png": "[encoded data removed]",
      "text/plain": [
       "<Figure size 1008x648 with 1 Axes>"
      ]
     },
     "metadata": {},
     "output_type": "display_data"
    }
   ],
   "source": [
    "results_bal, fig, cv_results = run_models(models, param_grid, preprocessor, X_train, y_train, X_valid, y_valid)"
   ]
  },
  {
   "cell_type": "code",
   "execution_count": 386,
   "metadata": {},
   "outputs": [],
   "source": [
    "param_grid = {'classifier__max_depth':range(15,30,5), 'classifier__min_samples_split':range(50,300,50)}"
   ]
  },
  {
   "cell_type": "code",
   "execution_count": 387,
   "metadata": {},
   "outputs": [
    {
     "name": "stdout",
     "output_type": "stream",
     "text": [
      "Running: LGBM\n",
      " The best params are: {'classifier__max_depth': 20, 'classifier__min_samples_split': 50}\n",
      "  Time taken: 773.08s\n"
     ]
    },
    {
     "data": {
      "image/png": "[encoded data removed]",
      "text/plain": [
       "<Figure size 1008x648 with 1 Axes>"
      ]
     },
     "metadata": {},
     "output_type": "display_data"
    }
   ],
   "source": [
    "results_bal, fig, cv_results = run_models(models, param_grid, preprocessor, X_train, y_train, X_valid, y_valid)"
   ]
  },
  {
   "cell_type": "markdown",
   "metadata": {},
   "source": [
    "#### Tune min_samples_leaf"
   ]
  },
  {
   "cell_type": "code",
   "execution_count": 388,
   "metadata": {},
   "outputs": [],
   "source": [
    "models = {\n",
    "          'LGBM': LGBMClassifier(class_weight=\"balanced\",\n",
    "                                 boosting_type = 'dart',\n",
    "                                max_depth = 20,\n",
    "                                min_samples_split = 50)\n",
    "         }"
   ]
  },
  {
   "cell_type": "code",
   "execution_count": 389,
   "metadata": {},
   "outputs": [],
   "source": [
    "param_grid = {'classifier__min_samples_leaf':range(30,71,10)}"
   ]
  },
  {
   "cell_type": "code",
   "execution_count": 390,
   "metadata": {},
   "outputs": [
    {
     "name": "stdout",
     "output_type": "stream",
     "text": [
      "Running: LGBM\n",
      " The best params are: {'classifier__min_samples_leaf': 30}\n",
      "  Time taken: 267.23s\n"
     ]
    },
    {
     "data": {
      "image/png": "[encoded data removed]",
      "text/plain": [
       "<Figure size 1008x648 with 1 Axes>"
      ]
     },
     "metadata": {},
     "output_type": "display_data"
    }
   ],
   "source": [
    "results_bal, fig, cv_results = run_models(models, param_grid, preprocessor, X_train, y_train, X_valid, y_valid)"
   ]
  },
  {
   "cell_type": "code",
   "execution_count": 392,
   "metadata": {},
   "outputs": [],
   "source": [
    "param_grid = {'classifier__min_samples_leaf':range(10,30,5)}"
   ]
  },
  {
   "cell_type": "code",
   "execution_count": 393,
   "metadata": {},
   "outputs": [
    {
     "name": "stdout",
     "output_type": "stream",
     "text": [
      "Running: LGBM\n",
      " The best params are: {'classifier__min_samples_leaf': 10}\n",
      "  Time taken: 215.16s\n"
     ]
    },
    {
     "data": {
      "image/png": "[encoded data removed]",
      "text/plain": [
       "<Figure size 1008x648 with 1 Axes>"
      ]
     },
     "metadata": {},
     "output_type": "display_data"
    }
   ],
   "source": [
    "results_bal, fig, cv_results = run_models(models, param_grid, preprocessor, X_train, y_train, X_valid, y_valid)"
   ]
  },
  {
   "cell_type": "markdown",
   "metadata": {},
   "source": [
    "#### Tune subsample"
   ]
  },
  {
   "cell_type": "code",
   "execution_count": 394,
   "metadata": {},
   "outputs": [],
   "source": [
    "models = {\n",
    "          'LGBM': LGBMClassifier(class_weight=\"balanced\",\n",
    "                                 boosting_type = 'dart',\n",
    "                                max_depth = 20,\n",
    "                                min_samples_split = 50,\n",
    "                                min_samples_leaf = 10)\n",
    "         }"
   ]
  },
  {
   "cell_type": "code",
   "execution_count": 397,
   "metadata": {},
   "outputs": [],
   "source": [
    "param_grid = {'classifier__subsample':[0.3, 0.35, 0.40, 0.45, 0.50, 0.55, 0.6]}"
   ]
  },
  {
   "cell_type": "code",
   "execution_count": 398,
   "metadata": {},
   "outputs": [
    {
     "name": "stdout",
     "output_type": "stream",
     "text": [
      "Running: LGBM\n",
      " The best params are: {'classifier__subsample': 0.3}\n",
      "  Time taken: 363.46s\n"
     ]
    },
    {
     "data": {
      "image/png": "[encoded data removed]",
      "text/plain": [
       "<Figure size 1008x648 with 1 Axes>"
      ]
     },
     "metadata": {},
     "output_type": "display_data"
    }
   ],
   "source": [
    "results_bal, fig, cv_results = run_models(models, param_grid, preprocessor, X_train, y_train, X_valid, y_valid)"
   ]
  },
  {
   "cell_type": "code",
   "execution_count": 399,
   "metadata": {},
   "outputs": [
    {
     "data": {
      "text/html": [
       "<div>\n",
       "<style scoped>\n",
       "    .dataframe tbody tr th:only-of-type {\n",
       "        vertical-align: middle;\n",
       "    }\n",
       "\n",
       "    .dataframe tbody tr th {\n",
       "        vertical-align: top;\n",
       "    }\n",
       "\n",
       "    .dataframe thead th {\n",
       "        text-align: right;\n",
       "    }\n",
       "</style>\n",
       "<table border=\"1\" class=\"dataframe\">\n",
       "  <thead>\n",
       "    <tr style=\"text-align: right;\">\n",
       "      <th></th>\n",
       "      <th>train_accuracy</th>\n",
       "      <th>valid_accuracy</th>\n",
       "      <th>precision</th>\n",
       "      <th>recall</th>\n",
       "      <th>f1</th>\n",
       "    </tr>\n",
       "  </thead>\n",
       "  <tbody>\n",
       "    <tr>\n",
       "      <th>LGBM</th>\n",
       "      <td>0.57</td>\n",
       "      <td>0.56</td>\n",
       "      <td>0.19</td>\n",
       "      <td>0.66</td>\n",
       "      <td>0.3</td>\n",
       "    </tr>\n",
       "  </tbody>\n",
       "</table>\n",
       "</div>"
      ],
      "text/plain": [
       "      train_accuracy  valid_accuracy  precision  recall   f1\n",
       "LGBM            0.57            0.56       0.19    0.66  0.3"
      ]
     },
     "execution_count": 399,
     "metadata": {},
     "output_type": "execute_result"
    }
   ],
   "source": [
    "results_bal"
   ]
  },
  {
   "cell_type": "markdown",
   "metadata": {},
   "source": [
    "#### Reduce learning rate"
   ]
  },
  {
   "cell_type": "code",
   "execution_count": 401,
   "metadata": {},
   "outputs": [],
   "source": [
    "models = {\n",
    "          'LGBM': LGBMClassifier(class_weight=\"balanced\",\n",
    "                                 boosting_type = 'dart',\n",
    "                                max_depth = 20,\n",
    "                                min_samples_split = 50,\n",
    "                                min_samples_leaf = 10,\n",
    "                                subsample = 0.3,\n",
    "                                learning_rate = 0.05,\n",
    "                                n_estimators = 5000)\n",
    "         }"
   ]
  },
  {
   "cell_type": "markdown",
   "metadata": {},
   "source": [
    "#### Final LGBM Optimized"
   ]
  },
  {
   "cell_type": "code",
   "execution_count": 402,
   "metadata": {},
   "outputs": [],
   "source": [
    "def run_models_feat_final(model_dict, preprocessor, X_train, y_train, X_valid, y_valid):\n",
    "    results_dict = {}\n",
    "    fig, ax = plt.subplots(1, 1, figsize=(14, 9))\n",
    "    for i, (model_name, model) in enumerate(models.items()):\n",
    "        print(f\"Running: {model_name}\")\n",
    "        t1 = time.time()\n",
    "        clf = Pipeline(steps = [('preprocessor', preprocessor),\n",
    "                                ('classifier', model)])\n",
    "        \n",
    "        clf.fit(X_train, y_train)\n",
    "        p_train = clf.predict(X_train)\n",
    "        p_valid = clf.predict(X_valid)\n",
    "        results_dict[model_name] = return_metrics(y_train, p_train, y_valid, p_valid)\n",
    "        plot_confusion(confusion_matrix(y_valid, p_valid), ax=ax, title=model_name)\n",
    "        print(f\"  Time taken: {time.time() - t1:.2f}s\")\n",
    "        \n",
    "    plt.tight_layout()\n",
    "    return (pd.DataFrame(results_dict,\n",
    "                         index = [\"train_accuracy\", \"valid_accuracy\", \"precision\", \"recall\", \"f1\"])\n",
    "              .transpose()\n",
    "              .round(2)), fig"
   ]
  },
  {
   "cell_type": "code",
   "execution_count": 403,
   "metadata": {},
   "outputs": [
    {
     "name": "stdout",
     "output_type": "stream",
     "text": [
      "Running: LGBM\n",
      "  Time taken: 32043.22s\n"
     ]
    },
    {
     "data": {
      "image/png": "[encoded data removed]",
      "text/plain": [
       "<Figure size 1008x648 with 1 Axes>"
      ]
     },
     "metadata": {},
     "output_type": "display_data"
    }
   ],
   "source": [
    "results_bal, fig = run_models_feat_final(models, preprocessor, X_train, y_train, X_valid, y_valid)"
   ]
  },
  {
   "cell_type": "code",
   "execution_count": 405,
   "metadata": {},
   "outputs": [
    {
     "data": {
      "text/html": [
       "<div>\n",
       "<style scoped>\n",
       "    .dataframe tbody tr th:only-of-type {\n",
       "        vertical-align: middle;\n",
       "    }\n",
       "\n",
       "    .dataframe tbody tr th {\n",
       "        vertical-align: top;\n",
       "    }\n",
       "\n",
       "    .dataframe thead th {\n",
       "        text-align: right;\n",
       "    }\n",
       "</style>\n",
       "<table border=\"1\" class=\"dataframe\">\n",
       "  <thead>\n",
       "    <tr style=\"text-align: right;\">\n",
       "      <th></th>\n",
       "      <th>train_accuracy</th>\n",
       "      <th>valid_accuracy</th>\n",
       "      <th>precision</th>\n",
       "      <th>recall</th>\n",
       "      <th>f1</th>\n",
       "    </tr>\n",
       "  </thead>\n",
       "  <tbody>\n",
       "    <tr>\n",
       "      <th>LGBM</th>\n",
       "      <td>0.58</td>\n",
       "      <td>0.57</td>\n",
       "      <td>0.19</td>\n",
       "      <td>0.65</td>\n",
       "      <td>0.3</td>\n",
       "    </tr>\n",
       "  </tbody>\n",
       "</table>\n",
       "</div>"
      ],
      "text/plain": [
       "      train_accuracy  valid_accuracy  precision  recall   f1\n",
       "LGBM            0.58            0.57       0.19    0.65  0.3"
      ]
     },
     "execution_count": 405,
     "metadata": {},
     "output_type": "execute_result"
    }
   ],
   "source": [
    "results_bal"
   ]
  }
 ],
 "metadata": {
  "kernelspec": {
   "display_name": "Python 3",
   "language": "python",
   "name": "python3"
  },
  "language_info": {
   "codemirror_mode": {
    "name": "ipython",
    "version": 3
   },
   "file_extension": ".py",
   "mimetype": "text/x-python",
   "name": "python",
   "nbconvert_exporter": "python",
   "pygments_lexer": "ipython3",
   "version": "3.7.6"
  }
 },
 "nbformat": 4,
 "nbformat_minor": 4
}
