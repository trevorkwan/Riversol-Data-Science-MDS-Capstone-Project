{
 "cells": [
  {
   "cell_type": "code",
   "execution_count": 2,
   "metadata": {},
   "outputs": [
    {
     "name": "stderr",
     "output_type": "stream",
     "text": [
      "Warning message:\n",
      "\"package 'tidyverse' was built under R version 3.6.3\"\n",
      "-- \u001b[1mAttaching packages\u001b[22m --------------------------------------- tidyverse 1.3.0 --\n",
      "\n",
      "\u001b[32mv\u001b[39m \u001b[34mggplot2\u001b[39m 3.3.0     \u001b[32mv\u001b[39m \u001b[34mpurrr  \u001b[39m 0.3.3\n",
      "\u001b[32mv\u001b[39m \u001b[34mtibble \u001b[39m 2.1.3     \u001b[32mv\u001b[39m \u001b[34mdplyr  \u001b[39m 0.8.5\n",
      "\u001b[32mv\u001b[39m \u001b[34mtidyr  \u001b[39m 1.0.2     \u001b[32mv\u001b[39m \u001b[34mstringr\u001b[39m 1.4.0\n",
      "\u001b[32mv\u001b[39m \u001b[34mreadr  \u001b[39m 1.3.1     \u001b[32mv\u001b[39m \u001b[34mforcats\u001b[39m 0.5.0\n",
      "\n",
      "Warning message:\n",
      "\"package 'ggplot2' was built under R version 3.6.3\"\n",
      "Warning message:\n",
      "\"package 'tidyr' was built under R version 3.6.3\"\n",
      "Warning message:\n",
      "\"package 'dplyr' was built under R version 3.6.3\"\n",
      "Warning message:\n",
      "\"package 'forcats' was built under R version 3.6.3\"\n",
      "-- \u001b[1mConflicts\u001b[22m ------------------------------------------ tidyverse_conflicts() --\n",
      "\u001b[31mx\u001b[39m \u001b[34mdplyr\u001b[39m::\u001b[32mfilter()\u001b[39m masks \u001b[34mstats\u001b[39m::filter()\n",
      "\u001b[31mx\u001b[39m \u001b[34mdplyr\u001b[39m::\u001b[32mlag()\u001b[39m    masks \u001b[34mstats\u001b[39m::lag()\n",
      "\n",
      "Warning message:\n",
      "\"package 'ggpubr' was built under R version 3.6.3\"\n",
      "Warning message:\n",
      "\"package 'rstatix' was built under R version 3.6.3\"\n",
      "\n",
      "Attaching package: 'rstatix'\n",
      "\n",
      "\n",
      "The following objects are masked from 'package:infer':\n",
      "\n",
      "    chisq_test, t_test\n",
      "\n",
      "\n",
      "The following object is masked from 'package:stats':\n",
      "\n",
      "    filter\n",
      "\n",
      "\n"
     ]
    }
   ],
   "source": [
    "library(tidyverse)\n",
    "library(infer)\n",
    "library(ggpubr)\n",
    "library(rstatix)"
   ]
  },
  {
   "cell_type": "code",
   "execution_count": 3,
   "metadata": {},
   "outputs": [
    {
     "name": "stderr",
     "output_type": "stream",
     "text": [
      "Parsed with column specification:\n",
      "cols(\n",
      "  customer_id = \u001b[32mcol_double()\u001b[39m,\n",
      "  accepts_marketing = \u001b[33mcol_logical()\u001b[39m,\n",
      "  ordered_month = \u001b[32mcol_double()\u001b[39m,\n",
      "  location = \u001b[31mcol_character()\u001b[39m,\n",
      "  gender = \u001b[31mcol_character()\u001b[39m,\n",
      "  free_shipping = \u001b[33mcol_logical()\u001b[39m,\n",
      "  product_type = \u001b[31mcol_character()\u001b[39m,\n",
      "  skin_type = \u001b[31mcol_character()\u001b[39m,\n",
      "  fv_site = \u001b[31mcol_character()\u001b[39m,\n",
      "  buy = \u001b[33mcol_logical()\u001b[39m\n",
      ")\n",
      "\n"
     ]
    },
    {
     "data": {
      "text/html": [
       "<table>\n",
       "<caption>A tibble: 6 × 10</caption>\n",
       "<thead>\n",
       "\t<tr><th scope=col>customer_id</th><th scope=col>accepts_marketing</th><th scope=col>ordered_month</th><th scope=col>location</th><th scope=col>gender</th><th scope=col>free_shipping</th><th scope=col>product_type</th><th scope=col>skin_type</th><th scope=col>fv_site</th><th scope=col>buy</th></tr>\n",
       "\t<tr><th scope=col>&lt;dbl&gt;</th><th scope=col>&lt;lgl&gt;</th><th scope=col>&lt;dbl&gt;</th><th scope=col>&lt;chr&gt;</th><th scope=col>&lt;chr&gt;</th><th scope=col>&lt;lgl&gt;</th><th scope=col>&lt;chr&gt;</th><th scope=col>&lt;chr&gt;</th><th scope=col>&lt;chr&gt;</th><th scope=col>&lt;lgl&gt;</th></tr>\n",
       "</thead>\n",
       "<tbody>\n",
       "\t<tr><td>510336833</td><td> TRUE</td><td>4</td><td>ONTARIO, CANADA          </td><td>unknown</td><td> TRUE</td><td>Anti-Aging</td><td>Normal to Dry </td><td>other</td><td>FALSE</td></tr>\n",
       "\t<tr><td>544818881</td><td>FALSE</td><td>6</td><td>BRITISH COLUMBIA, CANADA </td><td>unknown</td><td>FALSE</td><td>Other     </td><td>Normal to Oily</td><td>other</td><td> TRUE</td></tr>\n",
       "\t<tr><td>577330433</td><td>FALSE</td><td>5</td><td>OREGON, UNITED STATES    </td><td>female </td><td>FALSE</td><td>Other     </td><td>Normal to Dry </td><td>other</td><td> TRUE</td></tr>\n",
       "\t<tr><td>584222401</td><td>FALSE</td><td>5</td><td>NEW JERSEY, UNITED STATES</td><td>unknown</td><td>FALSE</td><td>Other     </td><td>Normal to Oily</td><td>other</td><td>FALSE</td></tr>\n",
       "\t<tr><td>593077569</td><td>FALSE</td><td>5</td><td>ONTARIO, CANADA          </td><td>unknown</td><td>FALSE</td><td>Other     </td><td>Normal to Dry </td><td>other</td><td>FALSE</td></tr>\n",
       "\t<tr><td>599767169</td><td>FALSE</td><td>5</td><td>QUEENSLAND, AUSTRALIA    </td><td>female </td><td>FALSE</td><td>Other     </td><td>Normal to Dry </td><td>other</td><td>FALSE</td></tr>\n",
       "</tbody>\n",
       "</table>\n"
      ],
      "text/latex": [
       "A tibble: 6 × 10\n",
       "\\begin{tabular}{llllllllll}\n",
       " customer\\_id & accepts\\_marketing & ordered\\_month & location & gender & free\\_shipping & product\\_type & skin\\_type & fv\\_site & buy\\\\\n",
       " <dbl> & <lgl> & <dbl> & <chr> & <chr> & <lgl> & <chr> & <chr> & <chr> & <lgl>\\\\\n",
       "\\hline\n",
       "\t 510336833 &  TRUE & 4 & ONTARIO, CANADA           & unknown &  TRUE & Anti-Aging & Normal to Dry  & other & FALSE\\\\\n",
       "\t 544818881 & FALSE & 6 & BRITISH COLUMBIA, CANADA  & unknown & FALSE & Other      & Normal to Oily & other &  TRUE\\\\\n",
       "\t 577330433 & FALSE & 5 & OREGON, UNITED STATES     & female  & FALSE & Other      & Normal to Dry  & other &  TRUE\\\\\n",
       "\t 584222401 & FALSE & 5 & NEW JERSEY, UNITED STATES & unknown & FALSE & Other      & Normal to Oily & other & FALSE\\\\\n",
       "\t 593077569 & FALSE & 5 & ONTARIO, CANADA           & unknown & FALSE & Other      & Normal to Dry  & other & FALSE\\\\\n",
       "\t 599767169 & FALSE & 5 & QUEENSLAND, AUSTRALIA     & female  & FALSE & Other      & Normal to Dry  & other & FALSE\\\\\n",
       "\\end{tabular}\n"
      ],
      "text/markdown": [
       "\n",
       "A tibble: 6 × 10\n",
       "\n",
       "| customer_id &lt;dbl&gt; | accepts_marketing &lt;lgl&gt; | ordered_month &lt;dbl&gt; | location &lt;chr&gt; | gender &lt;chr&gt; | free_shipping &lt;lgl&gt; | product_type &lt;chr&gt; | skin_type &lt;chr&gt; | fv_site &lt;chr&gt; | buy &lt;lgl&gt; |\n",
       "|---|---|---|---|---|---|---|---|---|---|\n",
       "| 510336833 |  TRUE | 4 | ONTARIO, CANADA           | unknown |  TRUE | Anti-Aging | Normal to Dry  | other | FALSE |\n",
       "| 544818881 | FALSE | 6 | BRITISH COLUMBIA, CANADA  | unknown | FALSE | Other      | Normal to Oily | other |  TRUE |\n",
       "| 577330433 | FALSE | 5 | OREGON, UNITED STATES     | female  | FALSE | Other      | Normal to Dry  | other |  TRUE |\n",
       "| 584222401 | FALSE | 5 | NEW JERSEY, UNITED STATES | unknown | FALSE | Other      | Normal to Oily | other | FALSE |\n",
       "| 593077569 | FALSE | 5 | ONTARIO, CANADA           | unknown | FALSE | Other      | Normal to Dry  | other | FALSE |\n",
       "| 599767169 | FALSE | 5 | QUEENSLAND, AUSTRALIA     | female  | FALSE | Other      | Normal to Dry  | other | FALSE |\n",
       "\n"
      ],
      "text/plain": [
       "  customer_id accepts_marketing ordered_month location                  gender \n",
       "1 510336833    TRUE             4             ONTARIO, CANADA           unknown\n",
       "2 544818881   FALSE             6             BRITISH COLUMBIA, CANADA  unknown\n",
       "3 577330433   FALSE             5             OREGON, UNITED STATES     female \n",
       "4 584222401   FALSE             5             NEW JERSEY, UNITED STATES unknown\n",
       "5 593077569   FALSE             5             ONTARIO, CANADA           unknown\n",
       "6 599767169   FALSE             5             QUEENSLAND, AUSTRALIA     female \n",
       "  free_shipping product_type skin_type      fv_site buy  \n",
       "1  TRUE         Anti-Aging   Normal to Dry  other   FALSE\n",
       "2 FALSE         Other        Normal to Oily other    TRUE\n",
       "3 FALSE         Other        Normal to Dry  other    TRUE\n",
       "4 FALSE         Other        Normal to Oily other   FALSE\n",
       "5 FALSE         Other        Normal to Dry  other   FALSE\n",
       "6 FALSE         Other        Normal to Dry  other   FALSE"
      ]
     },
     "metadata": {},
     "output_type": "display_data"
    }
   ],
   "source": [
    "df <- read_csv(\"../data/processed/cleaned_df.csv\")\n",
    "head(df)"
   ]
  },
  {
   "cell_type": "code",
   "execution_count": 4,
   "metadata": {},
   "outputs": [
    {
     "data": {
      "text/html": [
       "<style>\n",
       ".list-inline {list-style: none; margin:0; padding: 0}\n",
       ".list-inline>li {display: inline-block}\n",
       ".list-inline>li:not(:last-child)::after {content: \"\\00b7\"; padding: 0 .5ex}\n",
       "</style>\n",
       "<ol class=list-inline><li>'customer_id'</li><li>'accepts_marketing'</li><li>'ordered_month'</li><li>'location'</li><li>'gender'</li><li>'free_shipping'</li><li>'product_type'</li><li>'skin_type'</li><li>'fv_site'</li><li>'buy'</li></ol>\n"
      ],
      "text/latex": [
       "\\begin{enumerate*}\n",
       "\\item 'customer\\_id'\n",
       "\\item 'accepts\\_marketing'\n",
       "\\item 'ordered\\_month'\n",
       "\\item 'location'\n",
       "\\item 'gender'\n",
       "\\item 'free\\_shipping'\n",
       "\\item 'product\\_type'\n",
       "\\item 'skin\\_type'\n",
       "\\item 'fv\\_site'\n",
       "\\item 'buy'\n",
       "\\end{enumerate*}\n"
      ],
      "text/markdown": [
       "1. 'customer_id'\n",
       "2. 'accepts_marketing'\n",
       "3. 'ordered_month'\n",
       "4. 'location'\n",
       "5. 'gender'\n",
       "6. 'free_shipping'\n",
       "7. 'product_type'\n",
       "8. 'skin_type'\n",
       "9. 'fv_site'\n",
       "10. 'buy'\n",
       "\n",
       "\n"
      ],
      "text/plain": [
       " [1] \"customer_id\"       \"accepts_marketing\" \"ordered_month\"    \n",
       " [4] \"location\"          \"gender\"            \"free_shipping\"    \n",
       " [7] \"product_type\"      \"skin_type\"         \"fv_site\"          \n",
       "[10] \"buy\"              "
      ]
     },
     "metadata": {},
     "output_type": "display_data"
    }
   ],
   "source": [
    "colnames(df)"
   ]
  },
  {
   "cell_type": "markdown",
   "metadata": {},
   "source": [
    "#### Null Hypothesis: There is no difference in proportion of buyers.\n",
    "\n",
    "#### Alternative Hypothesis: There is a significant difference in proportion of buyers."
   ]
  },
  {
   "cell_type": "markdown",
   "metadata": {},
   "source": [
    "- the bonferroni correction multiplies all p-values by the number of pairs to adjust the p-value"
   ]
  },
  {
   "cell_type": "markdown",
   "metadata": {},
   "source": [
    "- First, we can see whether or not there is a significant difference between 2 categories of a feature.\n",
    "- Then, we can see which of the 2 categories has a higher conversion rate."
   ]
  },
  {
   "cell_type": "code",
   "execution_count": 5,
   "metadata": {},
   "outputs": [
    {
     "data": {
      "text/html": [
       "<style>\n",
       ".list-inline {list-style: none; margin:0; padding: 0}\n",
       ".list-inline>li {display: inline-block}\n",
       ".list-inline>li:not(:last-child)::after {content: \"\\00b7\"; padding: 0 .5ex}\n",
       "</style>\n",
       "<ol class=list-inline><li>TRUE</li><li>FALSE</li><li>FALSE</li><li>FALSE</li><li>FALSE</li><li>FALSE</li><li>FALSE</li><li>FALSE</li><li>FALSE</li><li>TRUE</li></ol>\n"
      ],
      "text/latex": [
       "\\begin{enumerate*}\n",
       "\\item TRUE\n",
       "\\item FALSE\n",
       "\\item FALSE\n",
       "\\item FALSE\n",
       "\\item FALSE\n",
       "\\item FALSE\n",
       "\\item FALSE\n",
       "\\item FALSE\n",
       "\\item FALSE\n",
       "\\item TRUE\n",
       "\\end{enumerate*}\n"
      ],
      "text/markdown": [
       "1. TRUE\n",
       "2. FALSE\n",
       "3. FALSE\n",
       "4. FALSE\n",
       "5. FALSE\n",
       "6. FALSE\n",
       "7. FALSE\n",
       "8. FALSE\n",
       "9. FALSE\n",
       "10. TRUE\n",
       "\n",
       "\n"
      ],
      "text/plain": [
       " [1]  TRUE FALSE FALSE FALSE FALSE FALSE FALSE FALSE FALSE  TRUE"
      ]
     },
     "metadata": {},
     "output_type": "display_data"
    }
   ],
   "source": [
    "feature_vec <- as.vector(colnames(df))\n",
    "drop_elements = c('customer_id', 'buy')\n",
    "feature_vec %in% drop_elements"
   ]
  },
  {
   "cell_type": "code",
   "execution_count": 6,
   "metadata": {},
   "outputs": [
    {
     "data": {
      "text/html": [
       "<style>\n",
       ".list-inline {list-style: none; margin:0; padding: 0}\n",
       ".list-inline>li {display: inline-block}\n",
       ".list-inline>li:not(:last-child)::after {content: \"\\00b7\"; padding: 0 .5ex}\n",
       "</style>\n",
       "<ol class=list-inline><li>'accepts_marketing'</li><li>'ordered_month'</li><li>'location'</li><li>'gender'</li><li>'free_shipping'</li><li>'product_type'</li><li>'skin_type'</li><li>'fv_site'</li></ol>\n"
      ],
      "text/latex": [
       "\\begin{enumerate*}\n",
       "\\item 'accepts\\_marketing'\n",
       "\\item 'ordered\\_month'\n",
       "\\item 'location'\n",
       "\\item 'gender'\n",
       "\\item 'free\\_shipping'\n",
       "\\item 'product\\_type'\n",
       "\\item 'skin\\_type'\n",
       "\\item 'fv\\_site'\n",
       "\\end{enumerate*}\n"
      ],
      "text/markdown": [
       "1. 'accepts_marketing'\n",
       "2. 'ordered_month'\n",
       "3. 'location'\n",
       "4. 'gender'\n",
       "5. 'free_shipping'\n",
       "6. 'product_type'\n",
       "7. 'skin_type'\n",
       "8. 'fv_site'\n",
       "\n",
       "\n"
      ],
      "text/plain": [
       "[1] \"accepts_marketing\" \"ordered_month\"     \"location\"         \n",
       "[4] \"gender\"            \"free_shipping\"     \"product_type\"     \n",
       "[7] \"skin_type\"         \"fv_site\"          "
      ]
     },
     "metadata": {},
     "output_type": "display_data"
    }
   ],
   "source": [
    "feature_vec <- feature_vec[!(feature_vec %in% drop_elements)]\n",
    "feature_vec"
   ]
  },
  {
   "cell_type": "markdown",
   "metadata": {},
   "source": [
    "#### accepts_marketing"
   ]
  },
  {
   "cell_type": "code",
   "execution_count": 13,
   "metadata": {},
   "outputs": [],
   "source": [
    "matrix <- data.matrix(table(df$accepts_marketing, df$buy))[,c(\"TRUE\", \"FALSE\")]"
   ]
  },
  {
   "cell_type": "code",
   "execution_count": 14,
   "metadata": {},
   "outputs": [
    {
     "data": {
      "text/plain": [
       "\n",
       "\tPairwise comparisons using Pairwise comparison of proportions \n",
       "\n",
       "data:  matrix \n",
       "\n",
       "     FALSE \n",
       "TRUE <2e-16\n",
       "\n",
       "P value adjustment method: bonferroni "
      ]
     },
     "metadata": {},
     "output_type": "display_data"
    }
   ],
   "source": [
    "pairwise.prop.test(matrix, p.adjust.method = \"bonferroni\")"
   ]
  },
  {
   "cell_type": "code",
   "execution_count": 17,
   "metadata": {},
   "outputs": [
    {
     "data": {
      "image/png": "[encoded data removed]",
      "text/plain": [
       "plot without title"
      ]
     },
     "metadata": {
      "image/png": {
       "height": 420,
       "width": 420
      }
     },
     "output_type": "display_data"
    }
   ],
   "source": [
    "ggplot(df,aes(x = accepts_marketing, fill = buy)) + \n",
    "    geom_bar(position = \"fill\") + ggtitle('Buyer Counts Based on Acceptance of Marketing')"
   ]
  },
  {
   "cell_type": "markdown",
   "metadata": {},
   "source": [
    "#### ordered_month"
   ]
  },
  {
   "cell_type": "code",
   "execution_count": 18,
   "metadata": {},
   "outputs": [
    {
     "data": {
      "text/plain": [
       "\n",
       "\tPairwise comparisons using Pairwise comparison of proportions \n",
       "\n",
       "data:  matrix \n",
       "\n",
       "   1       2       3       4       5       6       7       8       9      \n",
       "2  0.00030 -       -       -       -       -       -       -       -      \n",
       "3  1.00000 1.00000 -       -       -       -       -       -       -      \n",
       "4  < 2e-16 1.9e-05 3.2e-12 -       -       -       -       -       -      \n",
       "5  < 2e-16 < 2e-16 < 2e-16 < 2e-16 -       -       -       -       -      \n",
       "6  1.00000 0.02274 1.00000 2.8e-15 < 2e-16 -       -       -       -      \n",
       "7  0.01821 1.1e-11 1.2e-05 < 2e-16 < 2e-16 0.01431 -       -       -      \n",
       "8  1.00000 4.9e-07 0.02682 < 2e-16 < 2e-16 1.00000 1.00000 -       -      \n",
       "9  0.00029 1.1e-14 6.5e-08 < 2e-16 < 2e-16 0.00032 1.00000 0.57928 -      \n",
       "10 0.01992 1.00000 1.00000 2.4e-06 < 2e-16 0.35130 7.7e-09 7.0e-05 2.0e-11\n",
       "11 < 2e-16 < 2e-16 < 2e-16 < 2e-16 < 2e-16 < 2e-16 1.0e-05 1.9e-11 0.00143\n",
       "12 < 2e-16 < 2e-16 < 2e-16 < 2e-16 < 2e-16 < 2e-16 1.3e-06 4.2e-13 0.00034\n",
       "   10      11     \n",
       "2  -       -      \n",
       "3  -       -      \n",
       "4  -       -      \n",
       "5  -       -      \n",
       "6  -       -      \n",
       "7  -       -      \n",
       "8  -       -      \n",
       "9  -       -      \n",
       "10 -       -      \n",
       "11 < 2e-16 -      \n",
       "12 < 2e-16 1.00000\n",
       "\n",
       "P value adjustment method: bonferroni "
      ]
     },
     "metadata": {},
     "output_type": "display_data"
    }
   ],
   "source": [
    "matrix <- data.matrix(table(df$ordered_month, df$buy))[,c(\"TRUE\", \"FALSE\")]\n",
    "pairwise.prop.test(matrix, p.adjust.method = \"bonferroni\")"
   ]
  },
  {
   "cell_type": "code",
   "execution_count": 19,
   "metadata": {},
   "outputs": [
    {
     "data": {
      "image/png": "[encoded data removed]",
      "text/plain": [
       "plot without title"
      ]
     },
     "metadata": {
      "image/png": {
       "height": 420,
       "width": 420
      }
     },
     "output_type": "display_data"
    }
   ],
   "source": [
    "ggplot(df,aes(x = ordered_month, fill = buy)) + \n",
    "    geom_bar(position = \"fill\") + ggtitle('Buyer Counts Based on Month Ordered')"
   ]
  },
  {
   "cell_type": "markdown",
   "metadata": {},
   "source": [
    "#### gender"
   ]
  },
  {
   "cell_type": "code",
   "execution_count": 22,
   "metadata": {},
   "outputs": [
    {
     "data": {
      "text/plain": [
       "\n",
       "\tPairwise comparisons using Pairwise comparison of proportions \n",
       "\n",
       "data:  matrix \n",
       "\n",
       "              andy    female  male    mostly_female mostly_male\n",
       "female        0.13365 -       -       -             -          \n",
       "male          2.0e-05 < 2e-16 -       -             -          \n",
       "mostly_female 0.02643 1.00000 < 2e-16 -             -          \n",
       "mostly_male   1.00000 9.8e-08 0.01448 1.3e-08       -          \n",
       "unknown       1.00000 0.00029 < 2e-16 0.00040       0.00028    \n",
       "\n",
       "P value adjustment method: bonferroni "
      ]
     },
     "metadata": {},
     "output_type": "display_data"
    }
   ],
   "source": [
    "matrix <- data.matrix(table(df$gender, df$buy))[,c(\"TRUE\", \"FALSE\")]\n",
    "pairwise.prop.test(matrix, p.adjust.method = \"bonferroni\")"
   ]
  },
  {
   "cell_type": "code",
   "execution_count": 23,
   "metadata": {},
   "outputs": [
    {
     "data": {
      "image/png": "[encoded data removed]",
      "text/plain": [
       "plot without title"
      ]
     },
     "metadata": {
      "image/png": {
       "height": 420,
       "width": 420
      }
     },
     "output_type": "display_data"
    }
   ],
   "source": [
    "ggplot(df,aes(x = gender, fill = buy)) + \n",
    "    geom_bar(position = \"fill\") + ggtitle('Buyer Counts Based on Gender')"
   ]
  },
  {
   "cell_type": "markdown",
   "metadata": {},
   "source": [
    "#### free_shipping"
   ]
  },
  {
   "cell_type": "code",
   "execution_count": 24,
   "metadata": {},
   "outputs": [
    {
     "data": {
      "text/plain": [
       "\n",
       "\tPairwise comparisons using Pairwise comparison of proportions \n",
       "\n",
       "data:  matrix \n",
       "\n",
       "     FALSE \n",
       "TRUE <2e-16\n",
       "\n",
       "P value adjustment method: bonferroni "
      ]
     },
     "metadata": {},
     "output_type": "display_data"
    }
   ],
   "source": [
    "matrix <- data.matrix(table(df$free_shipping, df$buy))[,c(\"TRUE\", \"FALSE\")]\n",
    "pairwise.prop.test(matrix, p.adjust.method = \"bonferroni\")"
   ]
  },
  {
   "cell_type": "code",
   "execution_count": 25,
   "metadata": {},
   "outputs": [
    {
     "data": {
      "image/png": "[encoded data removed]",
      "text/plain": [
       "plot without title"
      ]
     },
     "metadata": {
      "image/png": {
       "height": 420,
       "width": 420
      }
     },
     "output_type": "display_data"
    }
   ],
   "source": [
    "ggplot(df,aes(x = free_shipping, fill = buy)) + \n",
    "    geom_bar(position = \"fill\") + ggtitle('Buyer Counts Based on Free Shipping')"
   ]
  },
  {
   "cell_type": "markdown",
   "metadata": {},
   "source": [
    "#### product_type"
   ]
  },
  {
   "cell_type": "code",
   "execution_count": 26,
   "metadata": {},
   "outputs": [
    {
     "data": {
      "text/plain": [
       "\n",
       "\tPairwise comparisons using Pairwise comparison of proportions \n",
       "\n",
       "data:  matrix \n",
       "\n",
       "        Anti-Aging Other  \n",
       "Other   1.0e-12    -      \n",
       "Redness < 2e-16    3.8e-06\n",
       "\n",
       "P value adjustment method: bonferroni "
      ]
     },
     "metadata": {},
     "output_type": "display_data"
    }
   ],
   "source": [
    "matrix <- data.matrix(table(df$product_type, df$buy))[,c(\"TRUE\", \"FALSE\")]\n",
    "pairwise.prop.test(matrix, p.adjust.method = \"bonferroni\")"
   ]
  },
  {
   "cell_type": "code",
   "execution_count": 27,
   "metadata": {},
   "outputs": [
    {
     "data": {
      "image/png": "[encoded data removed]",
      "text/plain": [
       "plot without title"
      ]
     },
     "metadata": {
      "image/png": {
       "height": 420,
       "width": 420
      }
     },
     "output_type": "display_data"
    }
   ],
   "source": [
    "ggplot(df,aes(x = product_type, fill = buy)) + \n",
    "    geom_bar(position = \"fill\") + ggtitle('Buyer Counts Based on Product Type')"
   ]
  },
  {
   "cell_type": "markdown",
   "metadata": {},
   "source": [
    "#### skin_type"
   ]
  },
  {
   "cell_type": "code",
   "execution_count": 28,
   "metadata": {},
   "outputs": [
    {
     "data": {
      "text/plain": [
       "\n",
       "\tPairwise comparisons using Pairwise comparison of proportions \n",
       "\n",
       "data:  matrix \n",
       "\n",
       "               Combination Dry     Normal to Dry Normal to Oily Oily    Unknown\n",
       "Dry            < 2e-16     -       -             -              -       -      \n",
       "Normal to Dry  3.8e-05     < 2e-16 -             -              -       -      \n",
       "Normal to Oily < 2e-16     1.00    < 2e-16       -              -       -      \n",
       "Oily           1.00        < 2e-16 1.00          < 2e-16        -       -      \n",
       "Unknown        < 2e-16     1.00    < 2e-16       1.00           < 2e-16 -      \n",
       "Very Dry       5.8e-05     < 2e-16 1.00          < 2e-16        0.78    < 2e-16\n",
       "\n",
       "P value adjustment method: bonferroni "
      ]
     },
     "metadata": {},
     "output_type": "display_data"
    }
   ],
   "source": [
    "matrix <- data.matrix(table(df$skin_type, df$buy))[,c(\"TRUE\", \"FALSE\")]\n",
    "pairwise.prop.test(matrix, p.adjust.method = \"bonferroni\")"
   ]
  },
  {
   "cell_type": "code",
   "execution_count": 30,
   "metadata": {},
   "outputs": [
    {
     "data": {
      "image/png": "[encoded data removed]",
      "text/plain": [
       "plot without title"
      ]
     },
     "metadata": {
      "image/png": {
       "height": 420,
       "width": 420
      }
     },
     "output_type": "display_data"
    }
   ],
   "source": [
    "ggplot(df,aes(x = skin_type, fill = buy)) + \n",
    "    geom_bar(position = \"fill\") + ggtitle('Buyer Counts Based on Skin Type')"
   ]
  }
 ],
 "metadata": {
  "kernelspec": {
   "display_name": "R",
   "language": "R",
   "name": "ir"
  },
  "language_info": {
   "codemirror_mode": "r",
   "file_extension": ".r",
   "mimetype": "text/x-r-source",
   "name": "R",
   "pygments_lexer": "r",
   "version": "3.6.2"
  }
 },
 "nbformat": 4,
 "nbformat_minor": 4
}
